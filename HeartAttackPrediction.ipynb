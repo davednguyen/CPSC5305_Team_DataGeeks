{
 "cells": [
  {
   "cell_type": "markdown",
   "metadata": {
    "collapsed": false
   },
   "source": [
    "### Library import"
   ]
  },
  {
   "cell_type": "code",
   "execution_count": 36,
   "metadata": {
    "collapsed": true
   },
   "outputs": [
    {
     "ename": "ModuleNotFoundError",
     "evalue": "No module named 'fast_ml'",
     "output_type": "error",
     "traceback": [
      "\u001b[1;31m---------------------------------------------------------------------------\u001b[0m",
      "\u001b[1;31mModuleNotFoundError\u001b[0m                       Traceback (most recent call last)",
      "Cell \u001b[1;32mIn [36], line 14\u001b[0m\n\u001b[0;32m     12\u001b[0m \u001b[39mfrom\u001b[39;00m \u001b[39msklearn\u001b[39;00m\u001b[39m.\u001b[39;00m\u001b[39mtree\u001b[39;00m \u001b[39mimport\u001b[39;00m DecisionTreeClassifier\n\u001b[0;32m     13\u001b[0m \u001b[39mfrom\u001b[39;00m \u001b[39msklearn\u001b[39;00m\u001b[39m.\u001b[39;00m\u001b[39mmodel_selection\u001b[39;00m \u001b[39mimport\u001b[39;00m train_test_split\n\u001b[1;32m---> 14\u001b[0m \u001b[39mfrom\u001b[39;00m \u001b[39mfast_ml\u001b[39;00m\u001b[39m.\u001b[39;00m\u001b[39mmodel_development\u001b[39;00m \u001b[39mimport\u001b[39;00m train_valid_test_split\n\u001b[0;32m     15\u001b[0m \u001b[39mfrom\u001b[39;00m \u001b[39mgraphviz\u001b[39;00m \u001b[39mimport\u001b[39;00m Source\n\u001b[0;32m     16\u001b[0m \u001b[39mfrom\u001b[39;00m \u001b[39msklearn\u001b[39;00m\u001b[39m.\u001b[39;00m\u001b[39mtree\u001b[39;00m \u001b[39mimport\u001b[39;00m export_graphviz\n",
      "\u001b[1;31mModuleNotFoundError\u001b[0m: No module named 'fast_ml'"
     ]
    }
   ],
   "source": [
    "# Library import\n",
    "import numpy as np\n",
    "import pandas as pd\n",
    "import os\n",
    "import matplotlib.pyplot as plt\n",
    "%matplotlib inline\n",
    "import seaborn as sns\n",
    "from sklearn.preprocessing import MinMaxScaler\n",
    "from sklearn.experimental import enable_iterative_imputer\n",
    "from sklearn.impute import IterativeImputer\n",
    "from sklearn.impute import KNNImputer\n",
    "from sklearn.tree import DecisionTreeClassifier\n",
    "from sklearn.model_selection import train_test_split\n",
    "from fast_ml.model_development import train_valid_test_split\n",
    "from graphviz import Source\n",
    "from sklearn.tree import export_graphviz\n",
    "import graphviz\n",
    "from IPython.display import Image\n",
    "from sklearn.model_selection import KFold\n",
    "from sklearn.metrics import confusion_matrix\n",
    "from sklearn.metrics import classification_report\n",
    "from sklearn.linear_model import LinearRegression\n",
    "\n",
    "# Where to save the figures\n",
    "PROJECT_ROOT_DIR = \".\"\n",
    "CHAPTER_ID = \"decision_trees\"\n",
    "\n",
    "IMAGES_PATH = os.path.join(PROJECT_ROOT_DIR, \"images\", CHAPTER_ID)\n",
    "\n",
    "os.makedirs(IMAGES_PATH, exist_ok=True)\n",
    "\n",
    "def save_fig(fig_id, tight_layout=True, fig_extension=\"png\", resolution=300):\n",
    "    path = os.path.join(IMAGES_PATH, fig_id + \".\" + fig_extension)\n",
    "    print(\"Saving figure\", fig_id)\n",
    "    if tight_layout:\n",
    "        plt.tight_layout()\n",
    "    plt.savefig(path, format=fig_extension, dpi=resolution)\n"
   ]
  },
  {
   "cell_type": "markdown",
   "metadata": {
    "collapsed": false
   },
   "source": [
    "### Loading the dataset"
   ]
  },
  {
   "cell_type": "code",
   "execution_count": null,
   "metadata": {
    "collapsed": false
   },
   "outputs": [],
   "source": [
    "# Load the data\n",
    "# data file is located in folder data\n",
    "df = pd.read_csv('./data/heart.csv')\n",
    "print(df.head())\n",
    "print(df.tail())"
   ]
  },
  {
   "cell_type": "markdown",
   "metadata": {
    "collapsed": false
   },
   "source": [
    "### Verify for null values and data types of each feature"
   ]
  },
  {
   "cell_type": "code",
   "execution_count": null,
   "metadata": {
    "collapsed": false
   },
   "outputs": [],
   "source": [
    "# Check if the dataset has any missing values\n",
    "df.info()"
   ]
  },
  {
   "cell_type": "markdown",
   "metadata": {
    "collapsed": false
   },
   "source": [
    "### Conversion of categorical variables into numeric values"
   ]
  },
  {
   "cell_type": "code",
   "execution_count": null,
   "metadata": {
    "collapsed": false
   },
   "outputs": [],
   "source": [
    "# Map sex category variable to numeric values\n",
    "# (0 denote Male and 1 denote Female)\n",
    "mapping = {'M':0, 'F':1}\n",
    "df['Sex'] = df['Sex'].replace(mapping)\n",
    "df.info()\n",
    "print(df.head())"
   ]
  },
  {
   "cell_type": "code",
   "execution_count": null,
   "metadata": {
    "collapsed": false
   },
   "outputs": [],
   "source": [
    "# Find unique values for chest pain type\n",
    "print(df['ChestPainType'].unique())"
   ]
  },
  {
   "cell_type": "code",
   "execution_count": null,
   "metadata": {
    "collapsed": false
   },
   "outputs": [],
   "source": [
    "# Map chest pain type category variable to numeric values\n",
    "# 0 denote atypical angina (ATA)\n",
    "# 1 denote non-anginal pain (NAP)\n",
    "# 2 denote asymptomatic (ASY)\n",
    "# 3 denote typical angina (TA)\n",
    "mapping = {'ATA':0, 'NAP':1, 'ASY':2, 'TA':3}\n",
    "df['ChestPainType'] = df['ChestPainType'].replace(mapping)\n",
    "df.info()\n",
    "print(df.head())\n"
   ]
  },
  {
   "cell_type": "code",
   "execution_count": null,
   "metadata": {
    "collapsed": false
   },
   "outputs": [],
   "source": [
    "# Find unique values for resting ECG\n",
    "print(df['RestingECG'].unique())\n"
   ]
  },
  {
   "cell_type": "code",
   "execution_count": null,
   "metadata": {
    "collapsed": false
   },
   "outputs": [],
   "source": [
    "# Map resting ECG category variable to numeric values\n",
    "# 0 denote Normal\n",
    "# 1 denote ST-T wave abnormality (ST)\n",
    "# 2 denote left ventricular hypertrophy (LVH)\n",
    "mapping = {'Normal':0, 'ST':1, 'LVH':2}\n",
    "df['RestingECG'] = df['RestingECG'].replace(mapping)\n",
    "df.info()\n",
    "print(df.head())\n"
   ]
  },
  {
   "cell_type": "code",
   "execution_count": 37,
   "metadata": {
    "collapsed": false
   },
   "outputs": [
    {
     "ename": "KeyError",
     "evalue": "'ExerciseAngina'",
     "output_type": "error",
     "traceback": [
      "\u001b[1;31m---------------------------------------------------------------------------\u001b[0m",
      "\u001b[1;31mKeyError\u001b[0m                                  Traceback (most recent call last)",
      "File \u001b[1;32m~\\AppData\\Local\\Packages\\PythonSoftwareFoundation.Python.3.10_qbz5n2kfra8p0\\LocalCache\\local-packages\\Python310\\site-packages\\pandas\\core\\indexes\\base.py:3800\u001b[0m, in \u001b[0;36mIndex.get_loc\u001b[1;34m(self, key, method, tolerance)\u001b[0m\n\u001b[0;32m   3799\u001b[0m \u001b[39mtry\u001b[39;00m:\n\u001b[1;32m-> 3800\u001b[0m     \u001b[39mreturn\u001b[39;00m \u001b[39mself\u001b[39;49m\u001b[39m.\u001b[39;49m_engine\u001b[39m.\u001b[39;49mget_loc(casted_key)\n\u001b[0;32m   3801\u001b[0m \u001b[39mexcept\u001b[39;00m \u001b[39mKeyError\u001b[39;00m \u001b[39mas\u001b[39;00m err:\n",
      "File \u001b[1;32m~\\AppData\\Local\\Packages\\PythonSoftwareFoundation.Python.3.10_qbz5n2kfra8p0\\LocalCache\\local-packages\\Python310\\site-packages\\pandas\\_libs\\index.pyx:138\u001b[0m, in \u001b[0;36mpandas._libs.index.IndexEngine.get_loc\u001b[1;34m()\u001b[0m\n",
      "File \u001b[1;32m~\\AppData\\Local\\Packages\\PythonSoftwareFoundation.Python.3.10_qbz5n2kfra8p0\\LocalCache\\local-packages\\Python310\\site-packages\\pandas\\_libs\\index.pyx:165\u001b[0m, in \u001b[0;36mpandas._libs.index.IndexEngine.get_loc\u001b[1;34m()\u001b[0m\n",
      "File \u001b[1;32mpandas\\_libs\\hashtable_class_helper.pxi:5745\u001b[0m, in \u001b[0;36mpandas._libs.hashtable.PyObjectHashTable.get_item\u001b[1;34m()\u001b[0m\n",
      "File \u001b[1;32mpandas\\_libs\\hashtable_class_helper.pxi:5753\u001b[0m, in \u001b[0;36mpandas._libs.hashtable.PyObjectHashTable.get_item\u001b[1;34m()\u001b[0m\n",
      "\u001b[1;31mKeyError\u001b[0m: 'ExerciseAngina'",
      "\nThe above exception was the direct cause of the following exception:\n",
      "\u001b[1;31mKeyError\u001b[0m                                  Traceback (most recent call last)",
      "Cell \u001b[1;32mIn [37], line 5\u001b[0m\n\u001b[0;32m      1\u001b[0m \u001b[39m# Map exercise angina category variable to numeric values\u001b[39;00m\n\u001b[0;32m      2\u001b[0m \u001b[39m# 0 denote No\u001b[39;00m\n\u001b[0;32m      3\u001b[0m \u001b[39m# 1 denote Yes\u001b[39;00m\n\u001b[0;32m      4\u001b[0m mapping \u001b[39m=\u001b[39m {\u001b[39m'\u001b[39m\u001b[39mN\u001b[39m\u001b[39m'\u001b[39m:\u001b[39m0\u001b[39m, \u001b[39m'\u001b[39m\u001b[39mY\u001b[39m\u001b[39m'\u001b[39m:\u001b[39m1\u001b[39m}\n\u001b[1;32m----> 5\u001b[0m df[\u001b[39m'\u001b[39m\u001b[39mExerciseAngina\u001b[39m\u001b[39m'\u001b[39m] \u001b[39m=\u001b[39m df[\u001b[39m'\u001b[39m\u001b[39mExerciseAngina\u001b[39m\u001b[39m'\u001b[39m]\u001b[39m.\u001b[39mreplace(mapping)\n\u001b[0;32m      6\u001b[0m df\u001b[39m.\u001b[39minfo()\n\u001b[0;32m      7\u001b[0m \u001b[39mprint\u001b[39m(df\u001b[39m.\u001b[39mhead())\n",
      "File \u001b[1;32m~\\AppData\\Local\\Packages\\PythonSoftwareFoundation.Python.3.10_qbz5n2kfra8p0\\LocalCache\\local-packages\\Python310\\site-packages\\pandas\\core\\frame.py:3805\u001b[0m, in \u001b[0;36mDataFrame.__getitem__\u001b[1;34m(self, key)\u001b[0m\n\u001b[0;32m   3803\u001b[0m \u001b[39mif\u001b[39;00m \u001b[39mself\u001b[39m\u001b[39m.\u001b[39mcolumns\u001b[39m.\u001b[39mnlevels \u001b[39m>\u001b[39m \u001b[39m1\u001b[39m:\n\u001b[0;32m   3804\u001b[0m     \u001b[39mreturn\u001b[39;00m \u001b[39mself\u001b[39m\u001b[39m.\u001b[39m_getitem_multilevel(key)\n\u001b[1;32m-> 3805\u001b[0m indexer \u001b[39m=\u001b[39m \u001b[39mself\u001b[39;49m\u001b[39m.\u001b[39;49mcolumns\u001b[39m.\u001b[39;49mget_loc(key)\n\u001b[0;32m   3806\u001b[0m \u001b[39mif\u001b[39;00m is_integer(indexer):\n\u001b[0;32m   3807\u001b[0m     indexer \u001b[39m=\u001b[39m [indexer]\n",
      "File \u001b[1;32m~\\AppData\\Local\\Packages\\PythonSoftwareFoundation.Python.3.10_qbz5n2kfra8p0\\LocalCache\\local-packages\\Python310\\site-packages\\pandas\\core\\indexes\\base.py:3802\u001b[0m, in \u001b[0;36mIndex.get_loc\u001b[1;34m(self, key, method, tolerance)\u001b[0m\n\u001b[0;32m   3800\u001b[0m     \u001b[39mreturn\u001b[39;00m \u001b[39mself\u001b[39m\u001b[39m.\u001b[39m_engine\u001b[39m.\u001b[39mget_loc(casted_key)\n\u001b[0;32m   3801\u001b[0m \u001b[39mexcept\u001b[39;00m \u001b[39mKeyError\u001b[39;00m \u001b[39mas\u001b[39;00m err:\n\u001b[1;32m-> 3802\u001b[0m     \u001b[39mraise\u001b[39;00m \u001b[39mKeyError\u001b[39;00m(key) \u001b[39mfrom\u001b[39;00m \u001b[39merr\u001b[39;00m\n\u001b[0;32m   3803\u001b[0m \u001b[39mexcept\u001b[39;00m \u001b[39mTypeError\u001b[39;00m:\n\u001b[0;32m   3804\u001b[0m     \u001b[39m# If we have a listlike key, _check_indexing_error will raise\u001b[39;00m\n\u001b[0;32m   3805\u001b[0m     \u001b[39m#  InvalidIndexError. Otherwise we fall through and re-raise\u001b[39;00m\n\u001b[0;32m   3806\u001b[0m     \u001b[39m#  the TypeError.\u001b[39;00m\n\u001b[0;32m   3807\u001b[0m     \u001b[39mself\u001b[39m\u001b[39m.\u001b[39m_check_indexing_error(key)\n",
      "\u001b[1;31mKeyError\u001b[0m: 'ExerciseAngina'"
     ]
    }
   ],
   "source": [
    "# Map exercise angina category variable to numeric values\n",
    "# 0 denote No\n",
    "# 1 denote Yes\n",
    "mapping = {'N':0, 'Y':1}\n",
    "df['ExerciseAngina'] = df['ExerciseAngina'].replace(mapping)\n",
    "df.info()\n",
    "print(df.head())\n"
   ]
  },
  {
   "cell_type": "code",
   "execution_count": null,
   "metadata": {
    "collapsed": false
   },
   "outputs": [],
   "source": [
    "# Find unique values for resting ECG\n",
    "print(df['ST_Slope'].unique())\n"
   ]
  },
  {
   "cell_type": "code",
   "execution_count": null,
   "metadata": {
    "collapsed": false
   },
   "outputs": [],
   "source": [
    "# Map resting ECG category variable to numeric values\n",
    "# 0 denote Up\n",
    "# 1 denote Flat\n",
    "# 2 denote Down\n",
    "mapping = {'Up': 0, 'Flat': 1, 'Down': 2}\n",
    "df['ST_Slope'] = df['ST_Slope'].replace(mapping)\n",
    "df.info()\n",
    "print(df.head())\n"
   ]
  },
  {
   "cell_type": "markdown",
   "metadata": {
    "collapsed": false
   },
   "source": [
    "### Descriptive statistics"
   ]
  },
  {
   "cell_type": "code",
   "execution_count": null,
   "metadata": {
    "collapsed": false
   },
   "outputs": [],
   "source": [
    "df.describe()\n"
   ]
  },
  {
   "cell_type": "markdown",
   "metadata": {
    "collapsed": false
   },
   "source": [
    "### Check for balance dataset"
   ]
  },
  {
   "cell_type": "code",
   "execution_count": null,
   "metadata": {
    "collapsed": false
   },
   "outputs": [],
   "source": [
    "# Check if the dataset is balanced\n",
    "# Count the number of Heart Disease (1) and Normal (0)\n",
    "plt.figure(figsize=(15,10))\n",
    "plt.bar(df['HeartDisease'].unique(), df['HeartDisease'].value_counts(), color = ['blue', 'green'])\n",
    "plt.xticks([0, 1])\n",
    "plt.xlabel('Output Classes')\n",
    "plt.ylabel('Count')\n",
    "plt.title('Count of each Output Class')\n",
    "plt.savefig('figures/OutputClassBalance.jpg')"
   ]
  },
  {
   "cell_type": "markdown",
   "metadata": {
    "collapsed": false
   },
   "source": [
    "### Correlation matrix among all variables using heatmap"
   ]
  },
  {
   "cell_type": "code",
   "execution_count": null,
   "metadata": {
    "collapsed": false
   },
   "outputs": [],
   "source": [
    "# Generate correlation matrix between all features\n",
    "plt.figure(figsize=(20,12))\n",
    "sns.set_context('notebook',font_scale = 1.3)\n",
    "sns.heatmap(df.corr(),annot=True,linewidth =2)\n",
    "plt.tight_layout()\n",
    "plt.savefig('figures/CorrelationMatrix.jpg')"
   ]
  },
  {
   "cell_type": "markdown",
   "metadata": {
    "collapsed": false
   },
   "source": [
    "The heatmap shows no significant correlations between each individual variables with the other. Therefore, no features can be a predictor or indicator of the other."
   ]
  },
  {
   "cell_type": "markdown",
   "metadata": {
    "collapsed": false
   },
   "source": [
    "### Uni-variate analysis with the output value"
   ]
  },
  {
   "cell_type": "code",
   "execution_count": null,
   "metadata": {
    "collapsed": false
   },
   "outputs": [],
   "source": [
    "# Identify relationship between each feature and the output class\n",
    "sns.set_context('notebook',font_scale = 2.3)\n",
    "df.drop('HeartDisease', axis=1).corrwith(df.HeartDisease).plot(kind='bar', grid=True, figsize=(20, 10), title=\"Correlation with the output class\")\n",
    "plt.tight_layout()\n",
    "plt.savefig('figures/OutputCorrelation.jpg')"
   ]
  },
  {
   "cell_type": "markdown",
   "metadata": {
    "collapsed": false
   },
   "source": [
    "### Distribution of all features in the given dataset"
   ]
  },
  {
   "cell_type": "code",
   "execution_count": null,
   "metadata": {
    "collapsed": false
   },
   "outputs": [],
   "source": [
    "# Find distribution of dataset\n",
    "df.hist(figsize=(20,18), color = '#B5ECB3')\n",
    "plt.savefig('figures/HistogramAll.jpg')"
   ]
  },
  {
   "cell_type": "markdown",
   "metadata": {
    "collapsed": false
   },
   "source": [
    "A mixture of categorical variables and continuous variables. Continuous variables (age, restingbp, cholesterol, maxhr, oldpeak) need to be scaled since they have different range. Categorical should be divided into dummy columns separating each value.\n",
    "Another note on the missing value of Cholesterol feature (value = 0): we plan to create 2 models, one with Cholesterol as the feature and the other one without it. We'll then use accuracy to determine if we can drop these missing data tuples."
   ]
  },
  {
   "cell_type": "markdown",
   "metadata": {
    "collapsed": false
   },
   "source": [
    "### Age group analysis using pie charts"
   ]
  },
  {
   "cell_type": "code",
   "execution_count": null,
   "metadata": {
    "collapsed": false
   },
   "outputs": [],
   "source": [
    "# Plot pie chart for age group vs. heart disease\n",
    "youngD = df[(df.Age>=28) & (df.Age<40) & (df.HeartDisease==1)]\n",
    "middleD = df[(df.Age>=40)&(df.Age<55)&(df.HeartDisease==1)]\n",
    "oldD = df[(df.Age>55)&(df.HeartDisease==1)]\n",
    "\n",
    "young = df[(df.Age>=28) & (df.Age<40) & (df.HeartDisease==0)]\n",
    "middle = df[(df.Age>=40)&(df.Age<55)&(df.HeartDisease==0)]\n",
    "old = df[(df.Age>55)&(df.HeartDisease==0)]\n",
    "\n",
    "colors = ['#EC6B56','#FFC154','#47B39C']\n",
    "plt.figure(figsize=(40,40))\n",
    "sns.set_context('notebook',font_scale = 1.5)\n",
    "fig, ax = plt.subplots(1,2, sharex='all', sharey='all')\n",
    "\n",
    "ax[0].pie([len(youngD),len(middleD),len(oldD)],labels=['young','middle','elderly'],colors=colors, explode= [0.01,0.01,0.01], autopct='%1.1f%%', radius = 1.5, pctdistance = 0.8, labeldistance=0.3,center=(0,0))\n",
    "ax[0].set_title('With Heart Disease', y=1.2, x=0.3)\n",
    "ax[1].pie([len(young),len(middle),len(old)],labels=['young','middle','elderly'],colors=colors, explode= [0.01,0.01,0.01], autopct='%1.1f%%', radius = 1.5, pctdistance = 0.7, labeldistance=0.4, center=(0.5,0))\n",
    "ax[1].set_title('No Heart Disease', y=1.2)\n",
    "plt.savefig('figures/AgeGroupAnalysis.jpg')"
   ]
  },
  {
   "cell_type": "markdown",
   "metadata": {
    "collapsed": false
   },
   "source": [
    "The pie chart show that individuals in the elder group (greater than 55) have the highest chance of having heart disease (59.3%). It is then followed by the middle age group between 40 and 55 years old (35.3%) and then younger age group between 28 and 40 years old (5.4%)"
   ]
  },
  {
   "cell_type": "markdown",
   "metadata": {
    "collapsed": false
   },
   "source": [
    "Another piece of information from the pie chart with no heart disease, is that middle age and young group combined occupies the majority. This also agrees with the previous finding that the elder group tend to have a high chance of experiencing heart disease."
   ]
  },
  {
   "cell_type": "markdown",
   "metadata": {
    "collapsed": false
   },
   "source": [
    "### Sex analysis using pie chart"
   ]
  },
  {
   "cell_type": "code",
   "execution_count": null,
   "metadata": {
    "collapsed": false
   },
   "outputs": [],
   "source": [
    "# Plot pie chart for sex vs. heart disease\n",
    "male = df[(df.Sex==0) & (df.HeartDisease==1)]\n",
    "female = df[(df.Sex==1)&(df.HeartDisease==1)]\n",
    "\n",
    "colors = ['#EC6B56','#FFC154']\n",
    "plt.figure(figsize=(23,10))\n",
    "sns.set_context('notebook',font_scale = 2)\n",
    "plt.pie([len(male),len(female)],labels=['male','female'],colors=colors, explode= [0.01,0.01], autopct='%1.1f%%')\n",
    "plt.savefig('figures/SexAnalysis.jpg')"
   ]
  },
  {
   "cell_type": "markdown",
   "metadata": {
    "collapsed": false
   },
   "source": [
    "Even though the pie chart shows that the chances of developing heart disease for Male is much higher than Female, we can't establish a strong relationship between the 2 variables. Note that the histogram shows a skewed distribution towards Male, therefore we can't really draw a precise conclusion from the pie chart alone."
   ]
  },
  {
   "cell_type": "markdown",
   "metadata": {
    "collapsed": false
   },
   "source": [
    "### Chest pain type analysis using pie chart"
   ]
  },
  {
   "cell_type": "code",
   "execution_count": null,
   "metadata": {
    "collapsed": false
   },
   "outputs": [],
   "source": [
    "# Plot pie chart for sex vs. heart disease\n",
    "# 0 denote atypical angina (ATA)\n",
    "# 1 denote non-anginal pain (NAP)\n",
    "# 2 denote asymptomatic (ASY)\n",
    "# 3 denote typical angina (TA)\n",
    "ata = df[(df.ChestPainType==0) & (df.HeartDisease==1)]\n",
    "nap = df[(df.ChestPainType==1) & (df.HeartDisease==1)]\n",
    "asy = df[(df.ChestPainType==2) & (df.HeartDisease==1)]\n",
    "ta = df[(df.ChestPainType==3) & (df.HeartDisease==1)]\n",
    "\n",
    "colors = ['#EC6B56','#FFC154','#7b6371', '#47B39C']\n",
    "plt.figure(figsize=(23,10))\n",
    "sns.set_context('notebook',font_scale = 2)\n",
    "plt.pie([len(ata),len(nap), len(asy), len(ta)],labels=['atypical angina','non-anginal pain', 'asymptomatic', 'typical angina'],colors=colors, explode= [0.01,0.01, 0.01, 0.01], autopct='%1.1f%%')\n",
    "plt.savefig('figures/ChestPainTypeAnalysis.jpg')"
   ]
  },
  {
   "cell_type": "markdown",
   "metadata": {
    "collapsed": false
   },
   "source": [
    "The pie chart shows that most patients having heart disease don't experience any significant symptoms. The result agrees with the literature that most heart attacks are silent heart attacks (damage is done, but no symptoms)."
   ]
  },
  {
   "cell_type": "code",
   "execution_count": null,
   "metadata": {
    "collapsed": false
   },
   "outputs": [],
   "source": [
    "# Identify and remove missing values from RestingBP\n",
    "print(\"Count of missing values for resting blood pressure (value = 0): \",\n",
    "      len(df[df['RestingBP'] == 0]))\n",
    "missingBP = df[df['RestingBP'] == 0]\n",
    "df.drop(missingBP.index, inplace=True)\n",
    "assert df['RestingBP'].min() != 0\n",
    "print(\"After reduction of 1 data tuple, the shape decreases by 1 row: \", df.shape)"
   ]
  },
  {
   "cell_type": "markdown",
   "metadata": {
    "collapsed": false
   },
   "source": [
    "### Resting blood pressure analysis using boxplot"
   ]
  },
  {
   "cell_type": "code",
   "execution_count": null,
   "metadata": {
    "collapsed": false
   },
   "outputs": [],
   "source": [
    "# boxplot of restingBP vs. Heart Disease\n",
    "plt.figure(figsize=(15,10))\n",
    "sns.set_context('notebook',font_scale = 1.5)\n",
    "sns.boxplot(x=df['HeartDisease'], y=df['RestingBP'])\n",
    "plt.savefig('figures/RestingBPAnalysisBoxplot.jpg')"
   ]
  },
  {
   "cell_type": "markdown",
   "metadata": {
    "collapsed": false
   },
   "source": [
    "The boxplot shows a slightly higher average resting blood pressure for those with heart disease. Therefore, it is hard to determine if resting blood pressure plays a significant role in indicating heart disease."
   ]
  },
  {
   "cell_type": "markdown",
   "metadata": {
    "collapsed": false
   },
   "source": [
    "### Resting blood pressure analysis using pie charts"
   ]
  },
  {
   "cell_type": "code",
   "execution_count": null,
   "metadata": {
    "collapsed": false
   },
   "outputs": [],
   "source": [
    "print(\"Count of data tuples with low blood pressure (value < 90): \",\n",
    "      len(df[df['RestingBP'] < 90]))\n",
    "\n",
    "normalBPD = df[(df.RestingBP<140) & (df.HeartDisease==1)]\n",
    "highBPD = df[(df.RestingBP>140) & (df.HeartDisease==1)]\n",
    "\n",
    "normalBP = df[(df.RestingBP<140) & (df.HeartDisease==0)]\n",
    "highBP = df[(df.RestingBP>140) & (df.HeartDisease==0)]\n",
    "\n",
    "colors = ['#47B39C','#EC6B56']\n",
    "plt.figure(figsize=(20,20))\n",
    "sns.set_context('notebook',font_scale = 1.5)\n",
    "fig, ax = plt.subplots(1,2, sharex='all', sharey='all')\n",
    "\n",
    "ax[0].pie([len(normalBPD),len(highBPD)],labels=['normal','high'],colors=colors, explode= [0.01,0.01], autopct='%1.1f%%', labeldistance = 0.2)\n",
    "ax[0].set_title('With Heart Disease')\n",
    "ax[1].pie([len(normalBP),len(highBP)],labels=['normal','high'],colors=colors, explode= [0.01,0.01], autopct='%1.1f%%', labeldistance = 0.2)\n",
    "ax[1].set_title('No Heart Disease')\n",
    "plt.savefig('figures/RestingBPAnalysisPie.jpg')"
   ]
  },
  {
   "cell_type": "markdown",
   "metadata": {
    "collapsed": false
   },
   "source": [
    "Since there is only 1 data tuple belonging to low blood pressure threshold (less than 90), we include this data tuple in the normal blood pressure group."
   ]
  },
  {
   "cell_type": "markdown",
   "metadata": {
    "collapsed": false
   },
   "source": [
    "The pie chart shows that the percentage of individuals with high blood pressure (33.2%) is much higher than that with low blood pressure (19.6%). It performs better at showing the high blood pressure as an important feature in heart disease diagnosis."
   ]
  },
  {
   "cell_type": "markdown",
   "metadata": {
    "collapsed": false
   },
   "source": [
    "### Cholesterol analysis"
   ]
  },
  {
   "cell_type": "code",
   "execution_count": null,
   "metadata": {
    "collapsed": false
   },
   "outputs": [],
   "source": [
    "# Analyze cholesterol\n",
    "print('Count of data tuples with missing values for Cholesterol: ',len(df[df['Cholesterol']==0]))\n",
    "complete_cho = df[df['Cholesterol']!=0]\n",
    "print('Subset dataframe by removing data tuples with missing values.')\n",
    "print('New dataframe shape: ',complete_cho.shape)\n",
    "\n",
    "normalCD = complete_cho[(complete_cho.Cholesterol<200) & (complete_cho.HeartDisease==1)]\n",
    "highCD = complete_cho[(complete_cho.Cholesterol>=200) & (complete_cho.HeartDisease==1)]\n",
    "\n",
    "normalC = complete_cho[(complete_cho.Cholesterol<200) & (complete_cho.HeartDisease==0)]\n",
    "highC = complete_cho[(complete_cho.Cholesterol>=200) & (complete_cho.HeartDisease==0)]\n",
    "\n",
    "colors = ['#47B39C','#EC6B56']\n",
    "plt.figure(figsize=(20,20))\n",
    "sns.set_context('notebook',font_scale = 1.5)\n",
    "fig, ax = plt.subplots(1,2, sharex='all', sharey='all')\n",
    "\n",
    "ax[0].pie([len(normalCD),len(highCD)],labels=['normal','high'],colors=colors, explode= [0.01,0.01], autopct='%1.1f%%', labeldistance = 0.2)\n",
    "ax[0].set_title('With Heart Disease')\n",
    "ax[1].pie([len(normalC),len(highC)],labels=['normal','high'],colors=colors, explode= [0.01,0.01], autopct='%1.1f%%', labeldistance = 0.2)\n",
    "ax[1].set_title('No Heart Disease')\n",
    "plt.savefig('figures/CholesterolAnalysis.jpg')"
   ]
  },
  {
   "cell_type": "markdown",
   "metadata": {
    "collapsed": false
   },
   "source": [
    "The number of data tuples with missing values for Cholesterol accounts for 18.6% of the total dataset. We first would like to discard these data tuples and use the pie charts to rule out any relationship between this feature and heart disease diagnosis. The pie charts suggest that individuals with heart disease tend to also have high cholesterol (84%), as compared to the group with no heart disease (77.2%) It indicates that cholesterol plays an important role in heart disease diagnosis."
   ]
  },
  {
   "cell_type": "markdown",
   "metadata": {
    "collapsed": false
   },
   "source": [
    "### Fasting blood sugar analysis"
   ]
  },
  {
   "cell_type": "code",
   "execution_count": null,
   "metadata": {
    "collapsed": false
   },
   "outputs": [],
   "source": [
    "# Fasting blood sugar analysis\n",
    "highfbsD = df[(df.FastingBS==1) & (df.HeartDisease==1)]\n",
    "lowfbsD = df[(df.FastingBS==0) & (df.HeartDisease==1)]\n",
    "\n",
    "highfbs = df[(df.FastingBS==1) & (df.HeartDisease==0)]\n",
    "lowfbs = df[(df.FastingBS==0) & (df.HeartDisease==0)]\n",
    "\n",
    "print(\"Count of individuals having low fasting blood sugar: \", len(lowfbsD) + len(lowfbs))\n",
    "\n",
    "colors = ['#47B39C','#EC6B56']\n",
    "plt.figure(figsize=(20,20))\n",
    "sns.set_context('notebook',font_scale = 1.5)\n",
    "fig, ax = plt.subplots(1,2, sharex='all', sharey='all')\n",
    "\n",
    "ax[0].pie([len(highfbsD),len(lowfbsD)],labels=['high','low'],colors=colors, explode= [0.01,0.01], autopct='%1.1f%%', labeldistance = 0.2)\n",
    "ax[0].set_title('With Heart Disease')\n",
    "ax[1].pie([len(highfbs),len(lowfbs)],labels=['high','low'],colors=colors, explode= [0.01,0.01], autopct='%1.1f%%', labeldistance = 0.2)\n",
    "ax[1].set_title('No Heart Disease')\n",
    "plt.savefig('figures/FastingBSAnalysis.jpg')"
   ]
  },
  {
   "cell_type": "markdown",
   "metadata": {
    "collapsed": false
   },
   "source": [
    "From the pie charts, both show similar trend that individuals having low fasting take the majority. The explanation for such a result is that the data consists out 703 individuals with low fasting blood pressure (76.7% of total data tuples). Due to the skewed size of the dataset, we cannot draw any clear conclusion based on the pie charts alone."
   ]
  },
  {
   "cell_type": "markdown",
   "metadata": {
    "collapsed": false
   },
   "source": [
    "### Resting electro-cardiograph (ECG) analysis"
   ]
  },
  {
   "cell_type": "code",
   "execution_count": null,
   "metadata": {
    "collapsed": false
   },
   "outputs": [],
   "source": [
    "normalD = df[(df.RestingECG==0) & (df.HeartDisease==1)]\n",
    "stD = df[(df.RestingECG==1)&(df.HeartDisease==1)]\n",
    "lvD = df[(df.RestingECG==2)&(df.HeartDisease==1)]\n",
    "\n",
    "normal = df[(df.RestingECG==0) & (df.HeartDisease==0)]\n",
    "st = df[(df.RestingECG==1)&(df.HeartDisease==0)]\n",
    "lv = df[(df.RestingECG==2)&(df.HeartDisease==0)]\n",
    "\n",
    "colors = ['#EC6B56','#FFC154','#47B39C']\n",
    "plt.figure(figsize=(50,40))\n",
    "sns.set_context('notebook',font_scale = 1.5)\n",
    "fig, ax = plt.subplots(1,2, sharex='all', sharey='all')\n",
    "\n",
    "ax[0].pie([len(normalD),len(stD),len(lvD)],labels=['normal','ST','LV'],colors=colors, explode= [0.01,0.01,0.01], autopct='%1.1f%%', radius = 1.5, pctdistance = 0.7, labeldistance=0.3,center=(0,0))\n",
    "ax[0].set_title('With Heart Disease', y=1.2, x=0.3)\n",
    "ax[1].pie([len(normal),len(st),len(lv)],labels=['normal','ST','LV'],colors=colors, explode= [0.01,0.01,0.01], autopct='%1.1f%%', radius = 1.5, pctdistance = 0.7, labeldistance=0.4, center=(0.5,0))\n",
    "ax[1].set_title('No Heart Disease', y=1.2)\n",
    "plt.savefig('figures/RestingECGAnalysis.jpg')"
   ]
  },
  {
   "cell_type": "markdown",
   "metadata": {
    "collapsed": false
   },
   "source": [
    "For individuals with normal resting ECG, there is no significant difference between the groups with and without heart disease. This finding is consistent with individuals with left ventricular hypertrophy. However, individuals with ST-T wave abnormality shows a higher percentage for those with heart disease. This finding indicates that resting ECG might take part in diagnosign heart disease."
   ]
  },
  {
   "cell_type": "markdown",
   "metadata": {
    "collapsed": false
   },
   "source": [
    "### Max heart rate (HR) analysis"
   ]
  },
  {
   "cell_type": "code",
   "execution_count": null,
   "metadata": {
    "collapsed": false
   },
   "outputs": [],
   "source": [
    "# boxplot of MaxHR vs. Heart Disease\n",
    "plt.figure(figsize=(15,10))\n",
    "sns.set_context('notebook',font_scale = 1.5)\n",
    "sns.boxplot(x=df['HeartDisease'], y=df['MaxHR'])\n",
    "plt.savefig('figures/MaxHRAnalysis.jpg')"
   ]
  },
  {
   "cell_type": "markdown",
   "metadata": {
    "collapsed": false
   },
   "source": [
    "The boxplot clearly shows that individuals with heart disease have a higher maximum heart rate on average (150), as compared to those with no heart disease (130). This finding indicates the maximum heart rate feature takes an important role in diagnosing heart disease."
   ]
  },
  {
   "cell_type": "markdown",
   "metadata": {
    "collapsed": false
   },
   "source": [
    "### Exercise angina analysis"
   ]
  },
  {
   "cell_type": "code",
   "execution_count": null,
   "metadata": {
    "collapsed": false
   },
   "outputs": [],
   "source": [
    "eanD = df[(df.ExerciseAngina==0) & (df.HeartDisease==1)]\n",
    "eayD = df[(df.ExerciseAngina==1) & (df.HeartDisease==1)]\n",
    "\n",
    "ean = df[(df.ExerciseAngina==0) & (df.HeartDisease==0)]\n",
    "eay = df[(df.ExerciseAngina==1) & (df.HeartDisease==0)]\n",
    "\n",
    "colors = ['#47B39C','#EC6B56']\n",
    "plt.figure(figsize=(20,20))\n",
    "sns.set_context('notebook',font_scale = 1.5)\n",
    "fig, ax = plt.subplots(1,2, sharex='all', sharey='all')\n",
    "\n",
    "ax[0].pie([len(eanD),len(eayD)],labels=['no','yes'],colors=colors, explode= [0.01,0.01], autopct='%1.1f%%', labeldistance = 0.2)\n",
    "ax[0].set_title('With Heart Disease')\n",
    "ax[1].pie([len(ean),len(eay)],labels=['no','yes'],colors=colors, explode= [0.01,0.01], autopct='%1.1f%%', labeldistance = 0.2)\n",
    "ax[1].set_title('No Heart Disease')\n",
    "plt.savefig('figures/ExerciseAnginaAnalysis.jpg')"
   ]
  },
  {
   "cell_type": "markdown",
   "metadata": {
    "collapsed": false
   },
   "source": [
    "The pie charts clearly illustrate that individuals who experience exercise angina have a higher chance of carrying heart disease (62.3% vs. 13.4%. This finding shows a significant impact of exercise angina in diagnosing heart disease."
   ]
  },
  {
   "cell_type": "markdown",
   "metadata": {
    "collapsed": false
   },
   "source": [
    "### Oldpeak analysis"
   ]
  },
  {
   "cell_type": "code",
   "execution_count": null,
   "metadata": {
    "collapsed": false
   },
   "outputs": [],
   "source": [
    "# Pie chart for oldpeak (ST depression induced by exercise relative to rest)\n",
    "stedD = df[(df.Oldpeak<-0.1) | (df.Oldpeak>0.1) & (df.HeartDisease==1)]\n",
    "normalD = df[(df.Oldpeak>=-0.1) | (df.Oldpeak<=0.1) & (df.HeartDisease==1)]\n",
    "\n",
    "sted = df[(df.Oldpeak<-0.1) | (df.Oldpeak>0.1) & (df.HeartDisease==0)]\n",
    "normal = df[(df.Oldpeak>=-0.1) | (df.Oldpeak<=0.1) & (df.HeartDisease==0)]\n",
    "\n",
    "colors = ['#EC6B56', '#47B39C']\n",
    "plt.figure(figsize=(20,20))\n",
    "sns.set_context('notebook',font_scale = 1.5)\n",
    "fig, ax = plt.subplots(1,2, sharex='all', sharey='all')\n",
    "\n",
    "ax[0].pie([len(stedD),len(normalD)],labels=['elevation/depression','normal'],colors=colors, explode= [0.01,0.01], autopct='%1.1f%%', labeldistance = 1)\n",
    "ax[0].set_title('With Heart Disease')\n",
    "ax[1].pie([len(sted),len(normal)],labels=['elevation/depression','normal'],colors=colors, explode= [0.01,0.01], autopct='%1.1f%%', labeldistance = 1)\n",
    "ax[1].set_title('No Heart Disease')\n",
    "plt.savefig('figures/OldpeakAnalysis.jpg')"
   ]
  },
  {
   "cell_type": "markdown",
   "metadata": {
    "collapsed": false
   },
   "source": [
    "According to the literature, the normal range from ST depression and elevation is between -0.1 and 0.1. Any values outside this range is considered to be abnormal. The pie charts show that the percentage of individuals with heart disease have their oldpeak in the abnormal range, is higher than those who don't have heart diseases. It is congruent with the literature, regarding ST depression and elevation."
   ]
  },
  {
   "cell_type": "markdown",
   "metadata": {
    "collapsed": false
   },
   "source": [
    "### ST_Slope analysis"
   ]
  },
  {
   "cell_type": "code",
   "execution_count": null,
   "metadata": {
    "collapsed": false
   },
   "outputs": [],
   "source": [
    "# Plot pie chart for ST slope vs. heart disease\n",
    "upD = df[(df.ST_Slope==0) & (df.HeartDisease==1)]\n",
    "flatD = df[(df.ST_Slope==1)&(df.HeartDisease==1)]\n",
    "downD = df[(df.ST_Slope==2)&(df.HeartDisease==1)]\n",
    "\n",
    "up = df[(df.ST_Slope==0) & (df.HeartDisease==0)]\n",
    "flat = df[(df.ST_Slope==1)&(df.HeartDisease==0)]\n",
    "down = df[(df.ST_Slope==2)&(df.HeartDisease==0)]\n",
    "\n",
    "colors = ['#EC6B56','#FFC154','#47B39C']\n",
    "plt.figure(figsize=(50,20))\n",
    "sns.set_context('notebook',font_scale = 1)\n",
    "fig, ax = plt.subplots(1,2, sharex='all', sharey='all')\n",
    "\n",
    "ax[0].pie([len(upD),len(flatD),len(downD)],labels=['up','flat','down'],colors=colors, explode= [0.01,0.01,0.01], autopct='%1.1f%%', radius = 1.1, pctdistance = 0.6, labeldistance=1.1,center=(0,0))\n",
    "ax[0].set_title('With Heart Disease', y=1, x=0.3)\n",
    "ax[1].pie([len(up),len(flat),len(down)],labels=['up','flat','down'],colors=colors, explode= [0.01,0.01,0.01], autopct='%1.1f%%', radius = 1.1, pctdistance = 0.6, labeldistance=1.1, center=(0.5,0))\n",
    "ax[1].set_title('No Heart Disease', y=1)\n",
    "plt.savefig('figures/STSlopeAnalysis.jpg')"
   ]
  },
  {
   "cell_type": "markdown",
   "metadata": {
    "collapsed": false
   },
   "source": [
    "From the pie charts, we can see that individuals with heart disease tend to have flat ST slope (the slope of peak exercise ST segment). On other hand, up ST slope is associated with individuals experiencing no heart disease."
   ]
  },
  {
   "cell_type": "markdown",
   "metadata": {
    "collapsed": false
   },
   "source": [
    "### Create dummy columns for each categorical variables"
   ]
  },
  {
   "cell_type": "code",
   "execution_count": null,
   "metadata": {
    "collapsed": false
   },
   "outputs": [],
   "source": [
    "# Create dummies columns for categorical variable, to be used for machine learning algorithm\n",
    "df = pd.get_dummies(df, columns = ['Sex', 'ChestPainType', 'FastingBS', 'RestingECG', 'ExerciseAngina', 'ST_Slope'])\n",
    "print(df.head())\n"
   ]
  },
  {
   "cell_type": "markdown",
   "metadata": {
    "collapsed": false
   },
   "source": [
    "The dummies columns are created for each categorical variable. The dataset now contains 22 columns."
   ]
  },
  {
   "cell_type": "markdown",
   "metadata": {
    "collapsed": false
   },
   "source": [
    "### Normalize all continuous variable using MinMaxScaler"
   ]
  },
  {
   "cell_type": "code",
   "execution_count": null,
   "metadata": {
    "collapsed": false
   },
   "outputs": [],
   "source": [
    "# Scale continuous variables to range [0,1]\n",
    "scaler = MinMaxScaler()\n",
    "columns_to_scale = ['Age', 'RestingBP', 'Cholesterol', 'MaxHR', 'Oldpeak']\n",
    "df[columns_to_scale] = scaler.fit_transform(df[columns_to_scale])\n",
    "df[columns_to_scale].hist(figsize=(10,10), color = '#B5ECB3')\n",
    "plt.savefig('figures/Normalized.jpg')"
   ]
  },
  {
   "cell_type": "markdown",
   "metadata": {
    "collapsed": false
   },
   "source": [
    "The range for each continuous variable is within range [0,1] as expected."
   ]
  },
  {
   "cell_type": "markdown",
   "metadata": {
    "collapsed": false
   },
   "source": [
    "### Filling missing values for cholesterol using MICE Imputation"
   ]
  },
  {
   "cell_type": "code",
   "execution_count": null,
   "metadata": {
    "collapsed": false
   },
   "outputs": [],
   "source": [
    "print('Total count of cholesterol with value 0 before: ',len(df[df['Cholesterol']==0]))\n",
    "df_imputed = df.copy(deep=True)\n",
    "df_imputed.loc[ df_imputed['Cholesterol'] == 0, 'Cholesterol'] = np.nan\n",
    "print('Total count of cholesterol with value 0 after: ',len(df_imputed[df_imputed['Cholesterol']==0]))\n",
    "print('Total missing values (NaN): ',df_imputed['Cholesterol'].isna().sum())"
   ]
  },
  {
   "cell_type": "code",
   "execution_count": null,
   "metadata": {
    "collapsed": false
   },
   "outputs": [],
   "source": [
    "# df_knn_imputed = df_imputed.copy(deep=True)\n",
    "# knn_imputer = KNNImputer()\n",
    "# df_knn_imputed['Cholesterol'] = knn_imputer.fit_transform(df_knn_imputed)\n",
    "# df_knn_imputed['Cholesterol'].hist(figsize=(5,5), color = '#B5ECB3')"
   ]
  },
  {
   "cell_type": "code",
   "execution_count": null,
   "metadata": {
    "collapsed": false
   },
   "outputs": [],
   "source": [
    "df_mice_imputed = df_imputed.copy(deep=True)\n",
    "mice_imputer = IterativeImputer()\n",
    "df_mice_imputed['Cholesterol'] = mice_imputer.fit_transform(df_mice_imputed)\n",
    "print('Total missing values (NaN): ',df_mice_imputed['Cholesterol'].isna().sum())\n",
    "df_mice_imputed['Cholesterol'].hist(figsize=(5,5), color = '#B5ECB3')"
   ]
  },
  {
   "cell_type": "markdown",
   "metadata": {
    "collapsed": false
   },
   "source": [
    "### Split the dataset into training and testing set"
   ]
  },
  {
   "cell_type": "code",
   "execution_count": null,
   "metadata": {
    "collapsed": false
   },
   "outputs": [],
   "source": [
    "# # Let's say we want to split the data in 70:15:15 for train:valid:test dataset\n",
    "# train_size = 0.7\n",
    "#\n",
    "# X = df_mice_imputed.drop(columns = ['HeartDisease']).copy()\n",
    "# y = df_mice_imputed['HeartDisease']\n",
    "#\n",
    "# # In the first step we will split the data in training and remaining dataset\n",
    "# X_train, X_rem, y_train, y_rem = train_test_split(X,y, train_size=train_size)\n",
    "#\n",
    "# # Now since we want the valid and test size to be equal (15% each of overall data).\n",
    "# # we have to define valid_size=0.5 (that is 50% of remaining data)\n",
    "# test_size = 0.5\n",
    "# X_valid, X_test, y_valid, y_test = train_test_split(X_rem,y_rem, test_size=test_size)\n",
    "#\n",
    "# print(X_train.shape), print(y_train.shape)\n",
    "# print(X_valid.shape), print(y_valid.shape)\n",
    "# print(X_test.shape), print(y_test.shape)"
   ]
  },
  {
   "cell_type": "code",
   "execution_count": null,
   "metadata": {
    "collapsed": false
   },
   "outputs": [],
   "source": [
    "X = df_mice_imputed.drop(columns = ['HeartDisease']).copy()\n",
    "y = df_mice_imputed['HeartDisease']\n",
    "\n",
    "X_train, X_test, y_train, y_test = train_test_split(X,y, train_size=0.8)\n",
    "\n",
    "print(X_train.shape), print(y_train.shape)\n",
    "print(X_test.shape), print(y_test.shape)"
   ]
  },
  {
   "cell_type": "code",
   "execution_count": null,
   "metadata": {
    "collapsed": false
   },
   "outputs": [],
   "source": [
    "# X_train, y_train, X_valid, y_valid, X_test, y_test = train_valid_test_split(df_mice_imputed, target = 'HeartDisease', train_size=0.7, valid_size=0.2, test_size=0.1)\n",
    "#\n",
    "# print(X_train.shape), print(y_train.shape)\n",
    "# print(X_valid.shape), print(y_valid.shape)\n",
    "# print(X_test.shape), print(y_test.shape)\n"
   ]
  },
  {
   "cell_type": "code",
   "execution_count": null,
   "metadata": {
    "collapsed": false
   },
   "outputs": [],
   "source": [
    "#feature_names = X_train.columns.values.tolist()\n",
    "feature_names = ['Age', 'RestingBP', 'Cholesterol', 'MaxHR', 'Oldpeak', 'Sex (Male)', 'Sex (Female)', 'ChestPainType (ATA)', 'ChestPainType (NAP)', 'ChestPainType (ASY)', 'ChestPainType (TA)', 'FastingBS (Low)', 'FastingBS (High)', 'RestingECG (Normal)', 'RestingECG (ST)', 'Resting(LVH)', 'ExerciseAngina (No)', 'ExerciseAngina (Yes)', 'ST_Slope (Up)', 'ST_Slope (Flat)', 'ST_Slope (Down)']\n",
    "# a function to plot a bar graph of important features\n",
    "def plot_feature_importances(clf, feature_names):\n",
    "    c_features = len(feature_names)\n",
    "    plt.barh(range(c_features), clf.feature_importances_)\n",
    "    plt.xlabel(\"Feature importance\")\n",
    "    plt.ylabel(\"Feature name\")\n",
    "    plt.yticks(np.arange(c_features), feature_names)\n"
   ]
  },
  {
   "cell_type": "markdown",
   "metadata": {
    "collapsed": false
   },
   "source": [
    "### Decision Tree classifier accuracy for training and testing set"
   ]
  },
  {
   "cell_type": "code",
   "execution_count": null,
   "metadata": {
    "collapsed": false
   },
   "outputs": [],
   "source": [
    "clf = DecisionTreeClassifier(criterion='entropy', max_depth = 6, min_samples_leaf = 8,\n",
    "                            random_state = 0).fit(X_train, y_train)\n",
    "\n",
    "print('Accuracy of DT classifier on training set: {:.2f}'\n",
    "     .format(clf.score(X_train, y_train)))\n",
    "print('Accuracy of DT classifier on test set: {:.2f}'\n",
    "     .format(clf.score(X_test, y_test)))\n"
   ]
  },
  {
   "cell_type": "markdown",
   "metadata": {
    "collapsed": false
   },
   "source": [
    "### Feature importance"
   ]
  },
  {
   "cell_type": "code",
   "execution_count": null,
   "metadata": {
    "collapsed": false
   },
   "outputs": [],
   "source": [
    "plt.figure(figsize=(10,6),dpi=80)\n",
    "plot_feature_importances(clf, feature_names)\n",
    "plt.tight_layout()\n",
    "\n",
    "plt.show()"
   ]
  },
  {
   "cell_type": "markdown",
   "metadata": {
    "collapsed": false
   },
   "source": [
    "### Decision Tree Visualization"
   ]
  },
  {
   "cell_type": "code",
   "execution_count": null,
   "metadata": {
    "collapsed": false
   },
   "outputs": [],
   "source": [
    "# feature_names = X_train.columns.values.tolist()\n",
    "#print(feature_names)\n",
    "target_names = ['No Heart Disease', 'Heart Disease']\n",
    "export_graphviz(\n",
    "        clf,\n",
    "        out_file=os.path.join(IMAGES_PATH, \"dt.dot\"),\n",
    "        feature_names=feature_names,\n",
    "        class_names=target_names,\n",
    "        rounded=True,\n",
    "        filled=True\n",
    "    )\n",
    "#graphviz.view('images/decision_trees/dt.dot')\n",
    "graphviz.render('dot', filepath='images/decision_trees/dt.dot', outfile='images/decision_trees/DecisionTree.jpg')\n",
    "Image(filename='images/decision_trees/DecisionTree.jpg')\n",
    "#Source.from_file(os.path.join(IMAGES_PATH, \"dt.dot\"))"
   ]
  },
  {
   "cell_type": "markdown",
   "metadata": {
    "collapsed": false
   },
   "source": [
    "### Regression"
   ]
  },
  {
   "cell_type": "code",
   "execution_count": null,
   "metadata": {
    "collapsed": false
   },
   "outputs": [],
   "source": []
  },
  {
   "cell_type": "markdown",
   "metadata": {
    "collapsed": false
   },
   "source": [
    "### K-Fold Validation"
   ]
  },
  {
   "cell_type": "code",
   "execution_count": null,
   "metadata": {
    "collapsed": false
   },
   "outputs": [],
   "source": [
    "k = 5\n",
    "kf = KFold(n_splits=k, random_state=None, shuffle=True) # Define the split - into 4 folds\n",
    "\n",
    "accuracy = 0\n",
    "\n",
    "mal_precision = 0\n",
    "ben_precision = 0\n",
    "\n",
    "mal_recall = 0\n",
    "ben_recall = 0\n",
    "\n",
    "mal_f1 = 0\n",
    "ben_f1 = 0\n",
    "\n",
    "mac_avg_precision = 0\n",
    "mac_avg_recall = 0\n",
    "mac_avg_f1 = 0\n",
    "\n",
    "w_avg_precision = 0\n",
    "w_avg_recall = 0\n",
    "w_avg_f1 = 0\n",
    "\n",
    "dt_clf = DecisionTreeClassifier(criterion='entropy', max_depth = 6, min_samples_leaf = 8,\n",
    "                            random_state = 0)\n",
    "\n",
    "# I think kfold should be performed on Training set\n",
    "for train_index, test_index in kf.split(X_train, y_train):\n",
    "    #print(\"TRAIN:\", train_index, \"TEST:\", test_index)\n",
    "    # Change pandas dataframe to numpy array\n",
    "    X_tra, X_val = X_train.iloc[train_index], X_train.iloc[test_index]\n",
    "    y_tra, y_val = y_train.iloc[train_index], y_train.iloc[test_index]\n",
    "\n",
    "    # fit model using the training set\n",
    "    dt_clf.fit(X_tra, y_tra)\n",
    "    # compute predicted values for training set\n",
    "    y_pred_tra = dt_clf.predict(X_tra)\n",
    "    # compute predicted values for validating set\n",
    "    y_pred_val = dt_clf.predict(X_val)\n",
    "\n",
    "    # Print classification report for training set\n",
    "    result_metrics_val = classification_report(y_tra, y_pred_tra, target_names=target_names)\n",
    "    # For validating set\n",
    "    result_metrics_train = classification_report(y_val, y_pred_val, target_names=target_names)\n",
    "\n",
    "    print(result_metrics_val)\n",
    "\n",
    "    # Once you get dictionary of metrics, access the values using dictionary\n",
    "    result_metrics_tra_dict = classification_report(y_tra, y_pred_tra, target_names=target_names, output_dict=True)\n",
    "    result_metrics_dict = classification_report(y_val, y_pred_val, target_names=target_names, output_dict=True)\n",
    "\n",
    "\n",
    "    # print(result_metrics_dict)\n",
    "    # Todo: create a copy of accumulation for training\n",
    "    # Todo: rename the variable to no yes\n",
    "    # this is an example to access a measure\n",
    "    accuracy += result_metrics_dict['accuracy']\n",
    "\n",
    "    mal_precision += result_metrics_dict['No Heart Disease']['precision']\n",
    "    ben_precision += result_metrics_dict['Heart Disease']['precision']\n",
    "\n",
    "    mal_recall += result_metrics_dict['No Heart Disease']['recall']\n",
    "    ben_recall += result_metrics_dict['Heart Disease']['recall']\n",
    "\n",
    "    mal_f1 += result_metrics_dict['No Heart Disease']['f1-score']\n",
    "    ben_f1 += result_metrics_dict['Heart Disease']['f1-score']\n",
    "\n",
    "    mac_avg_precision += result_metrics_dict['macro avg']['precision']\n",
    "    mac_avg_recall += result_metrics_dict['macro avg']['recall']\n",
    "    mac_avg_f1 += result_metrics_dict['macro avg']['f1-score']\n",
    "\n",
    "    w_avg_precision += result_metrics_dict['weighted avg']['precision']\n",
    "    w_avg_recall += result_metrics_dict['weighted avg']['recall']\n",
    "    w_avg_f1 += result_metrics_dict['weighted avg']['f1-score']\n",
    "\n",
    "# compute the average in csv file\n",
    "print('Average accuracy using entropy criterion (k=3): {:.2f}' .format(accuracy/k))\n"
   ]
  },
  {
   "cell_type": "markdown",
   "metadata": {
    "collapsed": false
   },
   "source": [
    "### To do for group project\n",
    "   1. Select a hyperparameter for each individual algorithm ( k for kNN, max_depth for DT)\n",
    "   2. Run an outer loop for iteration of these hyperparameter for each algorithm (DT, SVM, kNN, RF)\n",
    "   3. Run inner loop using kFold (1 algorithm) to find out average values for all performance metrics for both training set and validating set, record them in .csv file, and plot a line graph to show the changes between these values for each iteration of the hyperparameter. (This can be seperated between team members, since we have 4 algorithms to tune the hyperparameter.\n",
    "   4. Select the best hyperparameter for each individual algorithm, and run a kFole loop with all 4 algorithms against the testing set, and then compare the average results for all performance metrics between 4 algorithms"
   ]
  },
  {
   "cell_type": "code",
   "execution_count": null,
   "metadata": {
    "collapsed": false
   },
   "outputs": [],
   "source": []
  }
 ],
 "metadata": {
  "kernelspec": {
   "display_name": "Python 3",
   "language": "python",
   "name": "python3"
  },
  "language_info": {
   "codemirror_mode": {
    "name": "ipython",
    "version": 2
   },
   "file_extension": ".py",
   "mimetype": "text/x-python",
   "name": "python",
   "nbconvert_exporter": "python",
   "pygments_lexer": "ipython2",
   "version": "2.7.6"
  }
 },
 "nbformat": 4,
 "nbformat_minor": 0
}
